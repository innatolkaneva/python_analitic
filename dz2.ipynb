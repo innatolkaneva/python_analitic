{
 "cells": [
  {
   "cell_type": "markdown",
   "id": "c6c778f3-567f-4a82-8a29-3480e040f88d",
   "metadata": {},
   "source": [
    "Условие 1: 1 задача\n",
    "* Скачать файл в уроке\n",
    "* Считать данные с помощью pandas\n",
    "* Вывести на экран первые 5 строк\n",
    "* Посмотреть на описание признаков и на их содержание"
   ]
  },
  {
   "cell_type": "code",
   "execution_count": 1,
   "id": "8de31a31-b754-4caf-ab0a-fdfc3a66c267",
   "metadata": {},
   "outputs": [
    {
     "data": {
      "text/html": [
       "<div>\n",
       "<style scoped>\n",
       "    .dataframe tbody tr th:only-of-type {\n",
       "        vertical-align: middle;\n",
       "    }\n",
       "\n",
       "    .dataframe tbody tr th {\n",
       "        vertical-align: top;\n",
       "    }\n",
       "\n",
       "    .dataframe thead th {\n",
       "        text-align: right;\n",
       "    }\n",
       "</style>\n",
       "<table border=\"1\" class=\"dataframe\">\n",
       "  <thead>\n",
       "    <tr style=\"text-align: right;\">\n",
       "      <th></th>\n",
       "      <th>id</th>\n",
       "      <th>date</th>\n",
       "      <th>price</th>\n",
       "      <th>bedrooms</th>\n",
       "      <th>bathrooms</th>\n",
       "      <th>sqft_living</th>\n",
       "      <th>sqft_lot</th>\n",
       "      <th>floors</th>\n",
       "      <th>waterfront</th>\n",
       "      <th>view</th>\n",
       "      <th>...</th>\n",
       "      <th>grade</th>\n",
       "      <th>sqft_above</th>\n",
       "      <th>sqft_basement</th>\n",
       "      <th>yr_built</th>\n",
       "      <th>yr_renovated</th>\n",
       "      <th>zipcode</th>\n",
       "      <th>lat</th>\n",
       "      <th>long</th>\n",
       "      <th>sqft_living15</th>\n",
       "      <th>sqft_lot15</th>\n",
       "    </tr>\n",
       "  </thead>\n",
       "  <tbody>\n",
       "    <tr>\n",
       "      <th>0</th>\n",
       "      <td>7129300520</td>\n",
       "      <td>20141013T000000</td>\n",
       "      <td>221900.0</td>\n",
       "      <td>3</td>\n",
       "      <td>1.00</td>\n",
       "      <td>1180</td>\n",
       "      <td>5650</td>\n",
       "      <td>1.0</td>\n",
       "      <td>0</td>\n",
       "      <td>0</td>\n",
       "      <td>...</td>\n",
       "      <td>7</td>\n",
       "      <td>1180</td>\n",
       "      <td>0</td>\n",
       "      <td>1955</td>\n",
       "      <td>0</td>\n",
       "      <td>98178</td>\n",
       "      <td>47.5112</td>\n",
       "      <td>-122.257</td>\n",
       "      <td>1340</td>\n",
       "      <td>5650</td>\n",
       "    </tr>\n",
       "    <tr>\n",
       "      <th>1</th>\n",
       "      <td>6414100192</td>\n",
       "      <td>20141209T000000</td>\n",
       "      <td>538000.0</td>\n",
       "      <td>3</td>\n",
       "      <td>2.25</td>\n",
       "      <td>2570</td>\n",
       "      <td>7242</td>\n",
       "      <td>2.0</td>\n",
       "      <td>0</td>\n",
       "      <td>0</td>\n",
       "      <td>...</td>\n",
       "      <td>7</td>\n",
       "      <td>2170</td>\n",
       "      <td>400</td>\n",
       "      <td>1951</td>\n",
       "      <td>1991</td>\n",
       "      <td>98125</td>\n",
       "      <td>47.7210</td>\n",
       "      <td>-122.319</td>\n",
       "      <td>1690</td>\n",
       "      <td>7639</td>\n",
       "    </tr>\n",
       "    <tr>\n",
       "      <th>2</th>\n",
       "      <td>5631500400</td>\n",
       "      <td>20150225T000000</td>\n",
       "      <td>180000.0</td>\n",
       "      <td>2</td>\n",
       "      <td>1.00</td>\n",
       "      <td>770</td>\n",
       "      <td>10000</td>\n",
       "      <td>1.0</td>\n",
       "      <td>0</td>\n",
       "      <td>0</td>\n",
       "      <td>...</td>\n",
       "      <td>6</td>\n",
       "      <td>770</td>\n",
       "      <td>0</td>\n",
       "      <td>1933</td>\n",
       "      <td>0</td>\n",
       "      <td>98028</td>\n",
       "      <td>47.7379</td>\n",
       "      <td>-122.233</td>\n",
       "      <td>2720</td>\n",
       "      <td>8062</td>\n",
       "    </tr>\n",
       "    <tr>\n",
       "      <th>3</th>\n",
       "      <td>2487200875</td>\n",
       "      <td>20141209T000000</td>\n",
       "      <td>604000.0</td>\n",
       "      <td>4</td>\n",
       "      <td>3.00</td>\n",
       "      <td>1960</td>\n",
       "      <td>5000</td>\n",
       "      <td>1.0</td>\n",
       "      <td>0</td>\n",
       "      <td>0</td>\n",
       "      <td>...</td>\n",
       "      <td>7</td>\n",
       "      <td>1050</td>\n",
       "      <td>910</td>\n",
       "      <td>1965</td>\n",
       "      <td>0</td>\n",
       "      <td>98136</td>\n",
       "      <td>47.5208</td>\n",
       "      <td>-122.393</td>\n",
       "      <td>1360</td>\n",
       "      <td>5000</td>\n",
       "    </tr>\n",
       "    <tr>\n",
       "      <th>4</th>\n",
       "      <td>1954400510</td>\n",
       "      <td>20150218T000000</td>\n",
       "      <td>510000.0</td>\n",
       "      <td>3</td>\n",
       "      <td>2.00</td>\n",
       "      <td>1680</td>\n",
       "      <td>8080</td>\n",
       "      <td>1.0</td>\n",
       "      <td>0</td>\n",
       "      <td>0</td>\n",
       "      <td>...</td>\n",
       "      <td>8</td>\n",
       "      <td>1680</td>\n",
       "      <td>0</td>\n",
       "      <td>1987</td>\n",
       "      <td>0</td>\n",
       "      <td>98074</td>\n",
       "      <td>47.6168</td>\n",
       "      <td>-122.045</td>\n",
       "      <td>1800</td>\n",
       "      <td>7503</td>\n",
       "    </tr>\n",
       "  </tbody>\n",
       "</table>\n",
       "<p>5 rows × 21 columns</p>\n",
       "</div>"
      ],
      "text/plain": [
       "           id             date     price  bedrooms  bathrooms  sqft_living  \\\n",
       "0  7129300520  20141013T000000  221900.0         3       1.00         1180   \n",
       "1  6414100192  20141209T000000  538000.0         3       2.25         2570   \n",
       "2  5631500400  20150225T000000  180000.0         2       1.00          770   \n",
       "3  2487200875  20141209T000000  604000.0         4       3.00         1960   \n",
       "4  1954400510  20150218T000000  510000.0         3       2.00         1680   \n",
       "\n",
       "   sqft_lot  floors  waterfront  view  ...  grade  sqft_above  sqft_basement  \\\n",
       "0      5650     1.0           0     0  ...      7        1180              0   \n",
       "1      7242     2.0           0     0  ...      7        2170            400   \n",
       "2     10000     1.0           0     0  ...      6         770              0   \n",
       "3      5000     1.0           0     0  ...      7        1050            910   \n",
       "4      8080     1.0           0     0  ...      8        1680              0   \n",
       "\n",
       "   yr_built  yr_renovated  zipcode      lat     long  sqft_living15  \\\n",
       "0      1955             0    98178  47.5112 -122.257           1340   \n",
       "1      1951          1991    98125  47.7210 -122.319           1690   \n",
       "2      1933             0    98028  47.7379 -122.233           2720   \n",
       "3      1965             0    98136  47.5208 -122.393           1360   \n",
       "4      1987             0    98074  47.6168 -122.045           1800   \n",
       "\n",
       "   sqft_lot15  \n",
       "0        5650  \n",
       "1        7639  \n",
       "2        8062  \n",
       "3        5000  \n",
       "4        7503  \n",
       "\n",
       "[5 rows x 21 columns]"
      ]
     },
     "execution_count": 1,
     "metadata": {},
     "output_type": "execute_result"
    }
   ],
   "source": [
    "import pandas as pd\n",
    "df = pd.read_csv('kc_house_data.csv')\n",
    "df.head()"
   ]
  },
  {
   "cell_type": "code",
   "execution_count": 2,
   "id": "7c667a1a-1885-4e45-ac03-372c66f62c75",
   "metadata": {},
   "outputs": [
    {
     "name": "stdout",
     "output_type": "stream",
     "text": [
      "<class 'pandas.core.frame.DataFrame'>\n",
      "RangeIndex: 21613 entries, 0 to 21612\n",
      "Data columns (total 21 columns):\n",
      " #   Column         Non-Null Count  Dtype  \n",
      "---  ------         --------------  -----  \n",
      " 0   id             21613 non-null  int64  \n",
      " 1   date           21613 non-null  object \n",
      " 2   price          21613 non-null  float64\n",
      " 3   bedrooms       21613 non-null  int64  \n",
      " 4   bathrooms      21613 non-null  float64\n",
      " 5   sqft_living    21613 non-null  int64  \n",
      " 6   sqft_lot       21613 non-null  int64  \n",
      " 7   floors         21613 non-null  float64\n",
      " 8   waterfront     21613 non-null  int64  \n",
      " 9   view           21613 non-null  int64  \n",
      " 10  condition      21613 non-null  int64  \n",
      " 11  grade          21613 non-null  int64  \n",
      " 12  sqft_above     21613 non-null  int64  \n",
      " 13  sqft_basement  21613 non-null  int64  \n",
      " 14  yr_built       21613 non-null  int64  \n",
      " 15  yr_renovated   21613 non-null  int64  \n",
      " 16  zipcode        21613 non-null  int64  \n",
      " 17  lat            21613 non-null  float64\n",
      " 18  long           21613 non-null  float64\n",
      " 19  sqft_living15  21613 non-null  int64  \n",
      " 20  sqft_lot15     21613 non-null  int64  \n",
      "dtypes: float64(5), int64(15), object(1)\n",
      "memory usage: 3.5+ MB\n"
     ]
    }
   ],
   "source": [
    "df.info()"
   ]
  },
  {
   "cell_type": "code",
   "execution_count": 3,
   "id": "bf604947-6b6e-4bd9-9c10-8ba7a6e3ca14",
   "metadata": {},
   "outputs": [
    {
     "name": "stdout",
     "output_type": "stream",
     "text": [
      "['id', 'date', 'price', 'bedrooms', 'bathrooms', 'sqft_living', 'sqft_lot', 'floors', 'waterfront', 'view', 'condition', 'grade', 'sqft_above', 'sqft_basement', 'yr_built', 'yr_renovated', 'zipcode', 'lat', 'long', 'sqft_living15', 'sqft_lot15']\n"
     ]
    }
   ],
   "source": [
    "print(df.columns.tolist())"
   ]
  },
  {
   "cell_type": "code",
   "execution_count": 5,
   "id": "1ee98cee-d0b7-4629-9c25-047956ad915d",
   "metadata": {},
   "outputs": [
    {
     "data": {
      "text/plain": [
       "(21613, 21)"
      ]
     },
     "execution_count": 5,
     "metadata": {},
     "output_type": "execute_result"
    }
   ],
   "source": [
    "df.shape"
   ]
  },
  {
   "cell_type": "markdown",
   "id": "008710bf-2f4c-414b-8cf7-ce60c10180fa",
   "metadata": {},
   "source": [
    "* id - Уникальный ID для каждого дома\n",
    "* date - Дата продажи дома\n",
    "* price - Стоимость продажи дома\n",
    "* bedrooms - Кол-во спален\n",
    "* bathrooms - Кол-во ванных комнат (0.5 - туалет без душа)\n",
    "* sqft_living - Кв. метры жилые\n",
    "* sqft_lot - Кв. метры общие\n",
    "* floors - Кол-во этажей\n",
    "* waterfront - Есть набержная или нет\n",
    "* view - Значение от 0 до 4 насколько хороший вид\n",
    "* condition - Значение от 1 до 5 насколько хорошее состояние\n",
    "* grade - Значение от 1 до 13, где 1-3 плохая конструкция здания и дизайн, 7 - средний уровень конструкции и дизайна, 11-13 - высокое качество * * конструкции и дизайна\n",
    "* sqft_above - Кв. метры дома, которые находятся выше земли\n",
    "* sqft_basement - Кв. метры дома, которые находятся ниже земли\n",
    "* yr_built - Год постройки дома\n",
    "* yr_renovated - Год ремонта дома\n",
    "* zipcode - Индекс\n",
    "* lat - Широта\n",
    "* long - Долгота\n",
    "* sqft_living15 - Кв. метры жилой площади у 15 соседей\n",
    "* sqft_lot15 - Кв. метры общей площади у 15 соседей"
   ]
  },
  {
   "cell_type": "markdown",
   "id": "650826a9-bc37-4e8d-89e6-4c6f7e99e277",
   "metadata": {},
   "source": [
    "Проведите первичный анализ данных\n",
    "* Изучите типы данных\n",
    "* Найдите количество пропущенных ячеек в данных\n",
    "* Посчитайте основные статистики по всем признакам и поизучайте их\n",
    "* Пишите выводы"
   ]
  },
  {
   "cell_type": "code",
   "execution_count": 6,
   "id": "a32beb55-4e83-4eea-8d7c-30dcedc4afbd",
   "metadata": {},
   "outputs": [
    {
     "name": "stdout",
     "output_type": "stream",
     "text": [
      "75000.0 7700000.0\n"
     ]
    }
   ],
   "source": [
    "print(df['price'].min(), df['price'].max())"
   ]
  },
  {
   "cell_type": "code",
   "execution_count": 7,
   "id": "9734bb3f-0338-4295-81f9-c9e181a041a9",
   "metadata": {},
   "outputs": [
    {
     "data": {
      "text/plain": [
       "id                    3421079032\n",
       "date             20150217T000000\n",
       "price                    75000.0\n",
       "bedrooms                       1\n",
       "bathrooms                    0.0\n",
       "sqft_living                  670\n",
       "sqft_lot                   43377\n",
       "floors                       1.0\n",
       "waterfront                     0\n",
       "view                           0\n",
       "condition                      3\n",
       "grade                          3\n",
       "sqft_above                   670\n",
       "sqft_basement                  0\n",
       "yr_built                    1966\n",
       "yr_renovated                   0\n",
       "zipcode                    98022\n",
       "lat                      47.2638\n",
       "long                    -121.906\n",
       "sqft_living15               1160\n",
       "sqft_lot15                 42882\n",
       "Name: 1149, dtype: object"
      ]
     },
     "execution_count": 7,
     "metadata": {},
     "output_type": "execute_result"
    }
   ],
   "source": [
    "df.sort_values('price').iloc[0]"
   ]
  },
  {
   "cell_type": "code",
   "execution_count": 8,
   "id": "7c800a3f-13ad-44af-bcbd-e40e684dabae",
   "metadata": {},
   "outputs": [
    {
     "data": {
      "text/plain": [
       "id                    6762700020\n",
       "date             20141013T000000\n",
       "price                  7700000.0\n",
       "bedrooms                       6\n",
       "bathrooms                    8.0\n",
       "sqft_living                12050\n",
       "sqft_lot                   27600\n",
       "floors                       2.5\n",
       "waterfront                     0\n",
       "view                           3\n",
       "condition                      4\n",
       "grade                         13\n",
       "sqft_above                  8570\n",
       "sqft_basement               3480\n",
       "yr_built                    1910\n",
       "yr_renovated                1987\n",
       "zipcode                    98102\n",
       "lat                      47.6298\n",
       "long                    -122.323\n",
       "sqft_living15               3940\n",
       "sqft_lot15                  8800\n",
       "Name: 7252, dtype: object"
      ]
     },
     "execution_count": 8,
     "metadata": {},
     "output_type": "execute_result"
    }
   ],
   "source": [
    "df.sort_values('price', ascending=False).iloc[0]"
   ]
  },
  {
   "cell_type": "code",
   "execution_count": 11,
   "id": "8e300ef5-ee2c-4d72-addf-36ff426ce5bd",
   "metadata": {},
   "outputs": [
    {
     "data": {
      "text/plain": [
       "array([1. , 2. , 1.5, 3. , 2.5, 3.5])"
      ]
     },
     "execution_count": 11,
     "metadata": {},
     "output_type": "execute_result"
    }
   ],
   "source": [
    "df['floors'].unique()"
   ]
  },
  {
   "cell_type": "markdown",
   "id": "1ed82b8e-4582-432e-86da-139dc8194eb6",
   "metadata": {},
   "source": [
    "Самый дорогой дом имеет 6 ванных комнат и 8 спален. В самом дешевом нет ванной комнаты, похоже просто душ. Дома представлены от 1 до 3,5 этажей."
   ]
  },
  {
   "cell_type": "markdown",
   "id": "6ebf9551-42a5-41f2-9dfc-bd7fb23cf532",
   "metadata": {},
   "source": [
    "Условие 3: 3 задача\n",
    "Ответьте на несколько вопросов\n",
    "* 3.1 В каком диапазоне изменяются стоимости недвижимости?\n",
    "* 3.2 Какую долю в среднем занимают жилая площадь от всей площади по всем домам?\n",
    "* 3.3 Как много домов с разными этажами в данных?\n",
    "* 3.4 Насколько хорошие состояния у домов в данных?\n",
    "* 3.5 Найдите года, когда построили первый дом, когда построили последний дом в данных?\n",
    "  "
   ]
  },
  {
   "cell_type": "code",
   "execution_count": 12,
   "id": "b1817724-4a80-4393-839d-86fc3990825e",
   "metadata": {},
   "outputs": [
    {
     "name": "stdout",
     "output_type": "stream",
     "text": [
      "75000.0 7700000.0\n"
     ]
    }
   ],
   "source": [
    "print(df['price'].min(), df['price'].max())"
   ]
  },
  {
   "cell_type": "code",
   "execution_count": 15,
   "id": "3b0bc050-2664-42de-89c7-6ec078e7c52b",
   "metadata": {},
   "outputs": [
    {
     "name": "stdout",
     "output_type": "stream",
     "text": [
      "13.77 %\n"
     ]
    }
   ],
   "source": [
    "print(f'{df['sqft_living'].sum()/df['sqft_lot'].sum()*100:.2f} %')"
   ]
  },
  {
   "cell_type": "code",
   "execution_count": 19,
   "id": "0486dc47-1640-4ad4-bc57-1ecd660ed7b4",
   "metadata": {},
   "outputs": [
    {
     "data": {
      "text/plain": [
       "floors\n",
       "1.0    10680\n",
       "2.0     8241\n",
       "1.5     1910\n",
       "3.0      613\n",
       "2.5      161\n",
       "3.5        8\n",
       "Name: count, dtype: int64"
      ]
     },
     "execution_count": 19,
     "metadata": {},
     "output_type": "execute_result"
    }
   ],
   "source": [
    "df['floors'].value_counts()"
   ]
  },
  {
   "cell_type": "code",
   "execution_count": 22,
   "id": "afce6799-24de-4419-85ad-2a4cae55f4a9",
   "metadata": {},
   "outputs": [
    {
     "name": "stdout",
     "output_type": "stream",
     "text": [
      "3.4094295100171195\n",
      "3.0\n"
     ]
    }
   ],
   "source": [
    "print(df['condition'].mean())\n",
    "print(df['condition'].median())"
   ]
  },
  {
   "cell_type": "code",
   "execution_count": 25,
   "id": "785a1fca-505d-46fe-8634-8666f2dabf73",
   "metadata": {},
   "outputs": [
    {
     "name": "stdout",
     "output_type": "stream",
     "text": [
      "1900\n",
      "2015\n"
     ]
    }
   ],
   "source": [
    "print(df['yr_built'].min())\n",
    "print(df['yr_built'].max())"
   ]
  },
  {
   "cell_type": "markdown",
   "id": "5f69eb7a-cc34-4baf-ac68-6603f7a95e05",
   "metadata": {},
   "source": [
    "* 4.1 Сколько в среднем стоят дома, у которых 2 спальни?\n",
    "* 4.2 Какая в среднем общая площадь домов, у которых стоимость больше 600 000?\n",
    "* 4.3 Как много домов коснулся ремонт?\n",
    "* 4.4 Насколько в среднем стоимость домов с оценкой grade домов выше 10 отличается от стоимости домов с оценкой grade меньше 4?"
   ]
  },
  {
   "cell_type": "code",
   "execution_count": 33,
   "id": "ca97ed7f-44c3-48c3-b0a7-b0e005f37586",
   "metadata": {},
   "outputs": [
    {
     "data": {
      "text/plain": [
       "array([ 3,  2,  4,  5,  1,  6,  7,  0,  8,  9, 11, 10, 33])"
      ]
     },
     "execution_count": 33,
     "metadata": {},
     "output_type": "execute_result"
    }
   ],
   "source": [
    "df['bedrooms'].unique()"
   ]
  },
  {
   "cell_type": "code",
   "execution_count": 46,
   "id": "94f03b60-c03b-4e8e-965a-60b2c915ccca",
   "metadata": {},
   "outputs": [
    {
     "name": "stdout",
     "output_type": "stream",
     "text": [
      "401372.68 средняя цена домов с 2 спальнями\n"
     ]
    }
   ],
   "source": [
    "print(f\"{df[df['bedrooms'] == 2]['price'].mean():.2f} средняя цена домов с 2 спальнями\")"
   ]
  },
  {
   "cell_type": "code",
   "execution_count": 48,
   "id": "67a4bead-cdbb-435b-b429-6ef278d7bda5",
   "metadata": {},
   "outputs": [
    {
     "name": "stdout",
     "output_type": "stream",
     "text": [
      "20442.52  в среднем общая площадь домов, у которых стоимость больше 600 000\n"
     ]
    }
   ],
   "source": [
    "print(f\"{df[df['price']>600000]['sqft_lot'].mean():.2f}  в среднем общая площадь домов, у которых стоимость больше 600 000\") "
   ]
  },
  {
   "cell_type": "code",
   "execution_count": 57,
   "id": "2e114874-9ccb-4ccd-850e-f3c63c6180c5",
   "metadata": {},
   "outputs": [
    {
     "name": "stdout",
     "output_type": "stream",
     "text": [
      "914 домов коснулся ремонт\n"
     ]
    }
   ],
   "source": [
    "print(f\"{df.shape[0]-df[df['yr_renovated']==0].shape[0]} домов коснулся ремонт\")"
   ]
  },
  {
   "cell_type": "code",
   "execution_count": 59,
   "id": "fb67ba78-27f2-4fa2-972e-8d15a71eee5f",
   "metadata": {},
   "outputs": [
    {
     "name": "stdout",
     "output_type": "stream",
     "text": [
      "1488885.12 в среднем стоимость домов с оценкой grade домов выше 10 отличается от стоимости домов с оценкой grade меньше 4\n"
     ]
    }
   ],
   "source": [
    "print(f\"{df[df['grade']>10]['price'].mean()- df[df['grade']<4]['price'].mean():.2f} в среднем стоимость домов с оценкой grade домов выше 10 отличается от стоимости домов с оценкой grade меньше 4\")"
   ]
  },
  {
   "cell_type": "markdown",
   "id": "3950613f-3fdc-41f9-bf4d-42bff2a630e8",
   "metadata": {},
   "source": [
    "* 5.1 Выберите дом клиенту\n",
    "Клиент хочет дом с видом на набережную, как минимум с тремя ванными и с подвалом. Сколько вариантов есть у клиента?\n",
    "* 5.2 Выберите дом клиенту\n",
    "Клиент хочет дом либо с очень красивым видом из окна, либо с видом на набережную, в очень хорошем состоянии и год постройки не меньше 1980 года. В какой ценовом диапазоне будут дома?\n",
    "* 5.3 Выберите дом клиенту\n",
    "Клиент хочет дом без подвала, с двумя этажами, стоимостью до 150000. Какая оценка по состоянию у таких домов в среднем?"
   ]
  },
  {
   "cell_type": "code",
   "execution_count": 70,
   "id": "d23e4dd0-d7bf-4801-b8c4-95ac62bd301a",
   "metadata": {},
   "outputs": [
    {
     "data": {
      "text/plain": [
       "84"
      ]
     },
     "execution_count": 70,
     "metadata": {},
     "output_type": "execute_result"
    }
   ],
   "source": [
    "df[(df['waterfront'] == 1) & (df['bedrooms']>2) & (df['sqft_basement']!=0)].shape[0] #5.1"
   ]
  },
  {
   "cell_type": "code",
   "execution_count": 68,
   "id": "c36e706a-c8c1-4f35-b308-d6d24c086e55",
   "metadata": {},
   "outputs": [
    {
     "name": "stdout",
     "output_type": "stream",
     "text": [
      "от 1295000.0 до 3000000.0\n"
     ]
    }
   ],
   "source": [
    "client = df[((df['waterfront'] == 1)|(df['view'] == 4)) & (df['condition'] == 5) & (df['yr_built']>1980)]\n",
    "print(f\"от {client['price'].min()} до {client['price'].max()}\") #5.2"
   ]
  },
  {
   "cell_type": "code",
   "execution_count": 69,
   "id": "26fc6219-6444-454a-a144-0f74a83b286e",
   "metadata": {},
   "outputs": [
    {
     "data": {
      "text/plain": [
       "np.float64(2.8333333333333335)"
      ]
     },
     "execution_count": 69,
     "metadata": {},
     "output_type": "execute_result"
    }
   ],
   "source": [
    "client = df[(df['sqft_basement']==0) & (df['floors'] == 2) & (df['price'] <150000)]\n",
    "client['condition'].mean()\n"
   ]
  }
 ],
 "metadata": {
  "kernelspec": {
   "display_name": "Python 3 (ipykernel)",
   "language": "python",
   "name": "python3"
  },
  "language_info": {
   "codemirror_mode": {
    "name": "ipython",
    "version": 3
   },
   "file_extension": ".py",
   "mimetype": "text/x-python",
   "name": "python",
   "nbconvert_exporter": "python",
   "pygments_lexer": "ipython3",
   "version": "3.12.2"
  }
 },
 "nbformat": 4,
 "nbformat_minor": 5
}
