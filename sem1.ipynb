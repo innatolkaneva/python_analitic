{
 "cells": [
  {
   "cell_type": "markdown",
   "id": "dbc3ec37-3da7-4b85-af99-da171ee7a40d",
   "metadata": {},
   "source": []
  },
  {
   "cell_type": "markdown",
   "id": "1db7e360-c876-43df-941b-4efd69e27a92",
   "metadata": {},
   "source": [
    "Соединить два словаря в один"
   ]
  },
  {
   "cell_type": "code",
   "execution_count": 9,
   "id": "76636e61-e87d-403f-a619-73a745c9e419",
   "metadata": {},
   "outputs": [
    {
     "data": {
      "text/plain": [
       "{1: 'one', 2: 'two', 3: 'three', 4: 'four', 5: 'five'}"
      ]
     },
     "execution_count": 9,
     "metadata": {},
     "output_type": "execute_result"
    }
   ],
   "source": [
    "dict1 = {1:\"one\", 2:\"two\", 3: \"three\"}\n",
    "dict2 = {4:\"four\", 5:\"five\"}\n",
    "dict1.update(dict2)\n",
    "dict1"
   ]
  },
  {
   "cell_type": "code",
   "execution_count": 2,
   "id": "825805dd-ac6e-439a-aa20-0e709cfa63ac",
   "metadata": {},
   "outputs": [
    {
     "data": {
      "text/plain": [
       "{'one': 1, 'two': 2, 'three': 3}"
      ]
     },
     "execution_count": 2,
     "metadata": {},
     "output_type": "execute_result"
    }
   ],
   "source": [
    "keys = [\"one\", \"two\", \"three\"]\n",
    "values = [1, 2, 3]\n",
    "dict(zip(keys,values))"
   ]
  },
  {
   "cell_type": "markdown",
   "id": "6b3aacdf-76ef-4796-8c20-da65ee03bc52",
   "metadata": {},
   "source": [
    "Создание словаря циклом for"
   ]
  },
  {
   "cell_type": "code",
   "execution_count": 4,
   "id": "80ab2a3f-9386-4315-ac38-87f5c15303da",
   "metadata": {},
   "outputs": [
    {
     "data": {
      "text/plain": [
       "{'one': 3, 'two': 3, 'three': 3}"
      ]
     },
     "execution_count": 4,
     "metadata": {},
     "output_type": "execute_result"
    }
   ],
   "source": [
    "keys = [\"one\", \"two\", \"three\"]\n",
    "values = [1, 2, 3]\n",
    "d = {}\n",
    "for k in keys:\n",
    "    for v in values:\n",
    "        d.update({k:v})\n",
    "d\n",
    "        "
   ]
  },
  {
   "cell_type": "markdown",
   "id": "e11fc420-58c3-45cb-a00f-bbea88a3cf0f",
   "metadata": {},
   "source": [
    "Создание словаря с помощью dict comprensions"
   ]
  },
  {
   "cell_type": "code",
   "execution_count": 7,
   "id": "c1e9b065-4617-44e5-b352-af279fb9f356",
   "metadata": {},
   "outputs": [
    {
     "data": {
      "text/plain": [
       "{'one': 1, 'two': 2, 'three': 3}"
      ]
     },
     "execution_count": 7,
     "metadata": {},
     "output_type": "execute_result"
    }
   ],
   "source": [
    "keys = [\"one\", \"two\", \"three\"]\n",
    "values = [1, 2, 3]\n",
    "d2 = {keys[i] : values[i] for i in range(len(keys))}\n",
    "d2"
   ]
  },
  {
   "cell_type": "markdown",
   "id": "300b3aa3-5a97-4d62-963f-11c96a55f20e",
   "metadata": {},
   "source": [
    "Функция на вход принимает словарь и ключи которые нужно извлечь. На выходе новый словарь"
   ]
  },
  {
   "cell_type": "code",
   "execution_count": 13,
   "id": "24cbc715-a786-45fe-b90e-812c04749ce2",
   "metadata": {},
   "outputs": [
    {
     "data": {
      "text/plain": [
       "{1: 'one', 3: 'three', 5: 'five'}"
      ]
     },
     "execution_count": 13,
     "metadata": {},
     "output_type": "execute_result"
    }
   ],
   "source": [
    "keys_num = [1,3,5]\n",
    "\n",
    "def return_new_dict(nums):\n",
    "    nums_new = {}\n",
    "    for k,v in nums.items():\n",
    "        if k in keys_num:\n",
    "            nums_new.update({k:v})\n",
    "    return nums_new\n",
    "nums_new = return_new_dict(dict1)\n",
    "nums_new\n",
    "            "
   ]
  },
  {
   "cell_type": "code",
   "execution_count": 17,
   "id": "599fb1f9-b425-4d5a-8909-4113a4c42178",
   "metadata": {},
   "outputs": [
    {
     "data": {
      "text/plain": [
       "{1: 'one', 3: 'three', 5: 'five'}"
      ]
     },
     "execution_count": 17,
     "metadata": {},
     "output_type": "execute_result"
    }
   ],
   "source": [
    "def return_new_dict2(nums):\n",
    "    nums_new = {k:v for k,v in nums.items() if k in keys_num}\n",
    "    return nums_new\n",
    "nums_new2 = return_new_dict2(dict1)\n",
    "nums_new2\n",
    "    "
   ]
  },
  {
   "cell_type": "code",
   "execution_count": 2,
   "id": "12d13dc7-018c-4e3c-9758-d3d92e451b4f",
   "metadata": {},
   "outputs": [
    {
     "data": {
      "text/plain": [
       "[49, 97, 53, 5, 33]"
      ]
     },
     "execution_count": 2,
     "metadata": {},
     "output_type": "execute_result"
    }
   ],
   "source": [
    "import random as rd\n",
    "rd.seed(False)\n",
    "data = [rd.randint(0,100) for i in range(5)]\n",
    "data"
   ]
  },
  {
   "cell_type": "markdown",
   "id": "76c6972e-45bd-4498-ae7a-1715ce2a99ff",
   "metadata": {},
   "source": [
    "# Генераторы"
   ]
  },
  {
   "cell_type": "code",
   "execution_count": 7,
   "id": "2bd18057-0cc7-4cbd-b388-9ac48fba511e",
   "metadata": {},
   "outputs": [
    {
     "name": "stdout",
     "output_type": "stream",
     "text": [
      "(49, 0)\n",
      "(97, 2)\n",
      "(53, 2)\n",
      "(5, 2)\n",
      "(33, 2)\n"
     ]
    }
   ],
   "source": [
    "import time\n",
    "def gen1(data):\n",
    "    last_time = None\n",
    "    for i in data:\n",
    "        current_time = time.time()\n",
    "        if last_time:\n",
    "            delta = current_time - last_time\n",
    "        else:\n",
    "            delta = current_time - current_time\n",
    "        last_time = time.time()\n",
    "        yield(i, int(delta))\n",
    "for i in gen1(data):\n",
    "    print(i)\n",
    "    time.sleep(2)\n",
    "        "
   ]
  },
  {
   "cell_type": "markdown",
   "id": "2963ec4d-9947-4561-bdd8-15014c8933b8",
   "metadata": {},
   "source": [
    "<img src=\"photo_white.png\">"
   ]
  },
  {
   "cell_type": "markdown",
   "id": "74eaa391-462b-4690-961e-146c58387b8c",
   "metadata": {},
   "source": [
    "<table>\n",
    "    <tr>\n",
    "    <td></td>\n",
    "    <td>До события</td>\n",
    "    <td>Время события</td>\n",
    "    </tr>\n",
    "    <tr>\n",
    "    <td> точка</td>\n",
    "    <td>250</td>\n",
    "    <td>500</td>\n",
    "    </tr>\n",
    "    <tr>\n",
    "    <td> 2 точка</td>\n",
    "    <td>350</td>\n",
    "    <td>700</td>\n",
    "    </tr>\n",
    "    \n",
    "</table>"
   ]
  },
  {
   "cell_type": "markdown",
   "id": "9f7dbfdb-6f6a-4dbf-8a30-718df9bbde60",
   "metadata": {},
   "source": [
    "Функция, которая может принимать любое количество трат и считать среднее"
   ]
  },
  {
   "cell_type": "code",
   "execution_count": 16,
   "id": "e934a989-e410-481f-a642-452d0b7ec06a",
   "metadata": {},
   "outputs": [
    {
     "data": {
      "text/plain": [
       "8.5"
      ]
     },
     "execution_count": 16,
     "metadata": {},
     "output_type": "execute_result"
    }
   ],
   "source": [
    "def midle(*args):\n",
    "    sum = 0\n",
    "    for i in args:\n",
    "        sum+=i\n",
    "    return sum/len(args)\n",
    "a = midle(8, 9, 9, 8)\n",
    "a"
   ]
  },
  {
   "cell_type": "code",
   "execution_count": 1,
   "id": "8d2da05b-5708-4874-ad35-d2019d2b2b82",
   "metadata": {},
   "outputs": [
    {
     "data": {
      "text/plain": [
       "{'summa': np.int64(34), 'avg': np.float64(8.5)}"
      ]
     },
     "execution_count": 1,
     "metadata": {},
     "output_type": "execute_result"
    }
   ],
   "source": [
    "import numpy as np\n",
    "def purchars(*args):\n",
    "    return  {\"summa\": np.sum(args), \"avg\": np.mean(args)}\n",
    "purchars(8, 9, 9, 8)\n",
    "    "
   ]
  },
  {
   "cell_type": "markdown",
   "id": "cb29b68c-8a49-4800-87bb-7f0cb5ba28f2",
   "metadata": {},
   "source": [
    "ДЗ"
   ]
  },
  {
   "cell_type": "code",
   "execution_count": 8,
   "id": "b6b175c6-bb84-4dd9-a4ee-4f93519160e4",
   "metadata": {},
   "outputs": [
    {
     "data": {
      "text/plain": [
       "130"
      ]
     },
     "execution_count": 8,
     "metadata": {},
     "output_type": "execute_result"
    }
   ],
   "source": [
    "dates = ['2021-11-01','2021-11-01']\n",
    "income = [100, 30]\n",
    "new_list = [dates[i].split('-') for i in range(len(dates))]\n",
    "november = [income[i] for i in range(len(dates)) if new_list[i][1] == '11']\n",
    "x = sum(november)\n",
    "x"
   ]
  }
 ],
 "metadata": {
  "kernelspec": {
   "display_name": "Python 3 (ipykernel)",
   "language": "python",
   "name": "python3"
  },
  "language_info": {
   "codemirror_mode": {
    "name": "ipython",
    "version": 3
   },
   "file_extension": ".py",
   "mimetype": "text/x-python",
   "name": "python",
   "nbconvert_exporter": "python",
   "pygments_lexer": "ipython3",
   "version": "3.12.2"
  }
 },
 "nbformat": 4,
 "nbformat_minor": 5
}
